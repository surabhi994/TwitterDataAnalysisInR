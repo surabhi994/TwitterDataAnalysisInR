{
 "cells": [
  {
   "cell_type": "code",
   "execution_count": 20,
   "metadata": {
    "collapsed": false
   },
   "outputs": [],
   "source": [
    " library(twitteR)\n"
   ]
  },
  {
   "cell_type": "code",
   "execution_count": 21,
   "metadata": {
    "collapsed": false
   },
   "outputs": [
    {
     "name": "stdout",
     "output_type": "stream",
     "text": [
      "[1] \"Using direct authentication\"\n"
     ]
    }
   ],
   "source": [
    "setup_twitter_oauth(\"Lpo1w70pfkwXL8Fl1dYgWwBdS\", \"PW74Dy039KmQ56EYFF7iDSxalOHymBGrK1m0rwqRyy3tD8e1tS\",\"772498189450678272-1TIp0LwZJnQcS40Ee1elFtAfJFWs19U\",\"28gSmzTkp6X41KYxcnxAeGqg0Yov6MufR0KZNdeYCacHb\")"
   ]
  },
  {
   "cell_type": "code",
   "execution_count": 22,
   "metadata": {
    "collapsed": false,
    "scrolled": true
   },
   "outputs": [
    {
     "data": {
      "text/plain": [
       "[[1]]\n",
       "[1] \"SportsGrid: Would Brett Favre and June Jones have helped the #Falcons become an #NFL dynasty? +5 more near-misses… https://t.co/YCnhnWHYhb\"\n",
       "\n",
       "[[2]]\n",
       "[1] \"nolimitmea_: RT @misstannaebaby: My loves say Rise Up!\\xed\\xa0\\xbe\\xed\\xb4\\x98\\xed\\xa0\\xbc\\xed\\xbf\\xbd☺️ #falcons\\xed\\xa0\\xbd\\xed\\xb4\\xb4⚫️ #triplets\\xed\\xa0\\xbd\\xed\\xb1\\xb6\\xed\\xa0\\xbc\\xed\\xbf\\xbe https://t.co/DKARmqS2UC\"\n",
       "\n",
       "[[3]]\n",
       "[1] \"TayyXx_: RT @FriendsFalcons: WBB- Yowanna Posey had an impressive double-double with 23 points (9-15) and 10 rebounds. #DoubleTrouble #Falcons\"\n",
       "\n",
       "[[4]]\n",
       "[1] \"griffin_guitar: If you've never known heartbreak, you've clearly never been a Georgia sports fan. #UGA #BRAVES #FALCONS #HAWKS\"\n",
       "\n",
       "[[5]]\n",
       "[1] \"2016NJ1: #MAGA #Trump2016 #WIKILEAKS #brexit #Patriots #uber  #starbucks  #iTunes   #hiphop #nyc #NFL #espn #music #Falcons… https://t.co/Ac1kRQTvBm\"\n",
       "\n",
       "[[6]]\n",
       "[1] \"rrangel3092: RT @FalconsFanMVP: Top atlanta falcons rightrelevance influencers (https://t.co/zfgaZBp77I) to follow https://t.co/uuzEUBgcbm #falcons\"\n"
      ]
     },
     "metadata": {},
     "output_type": "display_data"
    }
   ],
   "source": [
    "tweets <- searchTwitter('#falcons', n=50)\n",
    "head(tweets)"
   ]
  },
  {
   "cell_type": "code",
   "execution_count": 23,
   "metadata": {
    "collapsed": false
   },
   "outputs": [
    {
     "data": {
      "text/plain": [
       "[[1]]\n",
       "[1] \"SportsGrid: Would Brett Favre and June Jones have helped the #Falcons become an #NFL dynasty? +5 more near-misses… https://t.co/YCnhnWHYhb\"\n",
       "\n",
       "[[2]]\n",
       "[1] \"griffin_guitar: If you've never known heartbreak, you've clearly never been a Georgia sports fan. #UGA #BRAVES #FALCONS #HAWKS\"\n",
       "\n",
       "[[3]]\n",
       "[1] \"2016NJ1: #MAGA #Trump2016 #WIKILEAKS #brexit #Patriots #uber  #starbucks  #iTunes   #hiphop #nyc #NFL #espn #music #Falcons… https://t.co/Ac1kRQTvBm\"\n",
       "\n",
       "[[4]]\n",
       "[1] \"FriendsFalcons: WBB- Yowanna Posey had an impressive double-double with 23 points (9-15) and 10 rebounds. #DoubleTrouble #Falcons\"\n",
       "\n",
       "[[5]]\n",
       "[1] \"SiriusXMFantasy: Talking #NFCSouth w/ @RCummingsFRS (#Bucs), @ashstro (#Panthers), @MikeTriplett (#Saints) &amp; @DOrlandoAJC (#Falcons)! https://t.co/AY4pUTEgyA\"\n",
       "\n",
       "[[6]]\n",
       "[1] \"2016NJ1: #MAGA #Trump2016 #WIKILEAKS #brexit #Patriots #uber  #starbucks  #iTunes   #hiphop #nyc #NFL #espn #music #Falcons… https://t.co/V0rsQddxot\"\n"
      ]
     },
     "metadata": {},
     "output_type": "display_data"
    }
   ],
   "source": [
    "head(strip_retweets(tweets, strip_manual=TRUE, strip_mt=TRUE))"
   ]
  },
  {
   "cell_type": "code",
   "execution_count": 24,
   "metadata": {
    "collapsed": false
   },
   "outputs": [
    {
     "data": {
      "text/html": [
       "'Cancer researcher, computer hacker. Music, photography, CA stuff into the mix. Too much politics of late. Don\\'t expect coherence across topics. Or within.'"
      ],
      "text/latex": [
       "'Cancer researcher, computer hacker. Music, photography, CA stuff into the mix. Too much politics of late. Don\\textbackslash{}'t expect coherence across topics. Or within.'"
      ],
      "text/markdown": [
       "'Cancer researcher, computer hacker. Music, photography, CA stuff into the mix. Too much politics of late. Don\\'t expect coherence across topics. Or within.'"
      ],
      "text/plain": [
       "[1] \"Cancer researcher, computer hacker. Music, photography, CA stuff into the mix. Too much politics of late. Don't expect coherence across topics. Or within.\""
      ]
     },
     "metadata": {},
     "output_type": "display_data"
    }
   ],
   "source": [
    " hiveminer <- getUser('hiveminer')\n",
    "hiveminer$getDescription()"
   ]
  },
  {
   "cell_type": "code",
   "execution_count": 25,
   "metadata": {
    "collapsed": false
   },
   "outputs": [
    {
     "data": {
      "text/html": [
       "74"
      ],
      "text/latex": [
       "74"
      ],
      "text/markdown": [
       "74"
      ],
      "text/plain": [
       "[1] 74"
      ]
     },
     "metadata": {},
     "output_type": "display_data"
    }
   ],
   "source": [
    "hiveminer$getFollowersCount()"
   ]
  },
  {
   "cell_type": "code",
   "execution_count": 26,
   "metadata": {
    "collapsed": false
   },
   "outputs": [
    {
     "data": {
      "text/plain": [
       "$`3433028235`\n",
       "[1] \"likeagirlinc\"\n",
       "\n",
       "$`97994396`\n",
       "[1] \"th3j35t3r\"\n",
       "\n",
       "$`17442457`\n",
       "[1] \"CleClinicMD\"\n",
       "\n",
       "$`970207298`\n",
       "[1] \"SenWarren\"\n",
       "\n",
       "$`2237808535`\n",
       "[1] \"pwnallthethings\"\n"
      ]
     },
     "metadata": {},
     "output_type": "display_data"
    }
   ],
   "source": [
    "hiveminer$getFriends(n=5)"
   ]
  },
  {
   "cell_type": "code",
   "execution_count": 27,
   "metadata": {
    "collapsed": false
   },
   "outputs": [
    {
     "data": {
      "text/plain": [
       "[[1]]\n",
       "[1] \"SopanDeb: To be clear, Pence said this to CNN during the campaign. https://t.co/vCte5plGsx\"\n",
       "\n",
       "[[2]]\n",
       "[1] \"juliagalef: Now THAT is how you respond to methodological criticism. Nicely done. https://t.co/DdMNVhZnJa https://t.co/tId5KJudO0\"\n",
       "\n",
       "[[3]]\n",
       "[1] \"RadioFreeTom: It does that for all of us. It's the best drug there is. https://t.co/oJqmRbcZIp\"\n",
       "\n",
       "[[4]]\n",
       "[1] \"xeni: The national vibe is like, meth and PCP, and we need to move as a nation toward indica and molly. it's gonna take xanax to get there.\"\n",
       "\n",
       "[[5]]\n",
       "[1] \"xeni: Li'l Trump funtime with America's last real President https://t.co/gVvocQUvf4 https://t.co/CjH3xC2e8c\"\n"
      ]
     },
     "metadata": {},
     "output_type": "display_data"
    }
   ],
   "source": [
    "hiveminer$getFavorites(n=5)"
   ]
  },
  {
   "cell_type": "code",
   "execution_count": null,
   "metadata": {
    "collapsed": false
   },
   "outputs": [
    {
     "name": "stderr",
     "output_type": "stream",
     "text": [
      "Warning message in FUN(X[[i]], ...):\n",
      "“input string 1 is invalid in this locale”Warning message in FUN(X[[i]], ...):\n",
      "“input string 1 is invalid in this locale”Warning message in FUN(X[[i]], ...):\n",
      "“input string 1 is invalid in this locale”Warning message in FUN(X[[i]], ...):\n",
      "“input string 1 is invalid in this locale”Warning message in FUN(X[[i]], ...):\n",
      "“input string 1 is invalid in this locale”Warning message in FUN(X[[i]], ...):\n",
      "“input string 1 is invalid in this locale”Warning message in FUN(X[[i]], ...):\n",
      "“input string 1 is invalid in this locale”Warning message in FUN(X[[i]], ...):\n",
      "“input string 1 is invalid in this locale”Warning message in FUN(X[[i]], ...):\n",
      "“input string 1 is invalid in this locale”Warning message in FUN(X[[i]], ...):\n",
      "“input string 1 is invalid in this locale”Warning message in FUN(X[[i]], ...):\n",
      "“input string 1 is invalid in this locale”Warning message in FUN(X[[i]], ...):\n",
      "“input string 1 is invalid in this locale”Warning message in FUN(X[[i]], ...):\n",
      "“input string 1 is invalid in this locale”Warning message in FUN(X[[i]], ...):\n",
      "“input string 1 is invalid in this locale”Warning message in FUN(X[[i]], ...):\n",
      "“input string 1 is invalid in this locale”Warning message in FUN(X[[i]], ...):\n",
      "“input string 1 is invalid in this locale”"
     ]
    }
   ],
   "source": [
    "df <- twListToDF(tweets)\n",
    "head(df)"
   ]
  },
  {
   "cell_type": "code",
   "execution_count": 12,
   "metadata": {
    "collapsed": false
   },
   "outputs": [
    {
     "name": "stderr",
     "output_type": "stream",
     "text": [
      "Loading required namespace: RSQLite\n"
     ]
    },
    {
     "data": {
      "text/html": [
       "TRUE"
      ],
      "text/latex": [
       "TRUE"
      ],
      "text/markdown": [
       "TRUE"
      ],
      "text/plain": [
       "[1] TRUE"
      ]
     },
     "metadata": {},
     "output_type": "display_data"
    }
   ],
   "source": [
    "sql_lite_file = tempfile()\n",
    "register_sqlite_backend(sql_lite_file)\n",
    "store_tweets_db(tweets)"
   ]
  },
  {
   "cell_type": "code",
   "execution_count": 13,
   "metadata": {
    "collapsed": false
   },
   "outputs": [
    {
     "data": {
      "text/plain": [
       "[[1]]\n",
       "[1] \"nolimitmea_: RT @misstannaebaby: My loves say Rise Up!\\xed\\xa0\\xbe\\xed\\xb4\\x98\\xed\\xa0\\xbc\\xed\\xbf\\xbd☺️ #falcons\\xed\\xa0\\xbd\\xed\\xb4\\xb4⚫️ #triplets\\xed\\xa0\\xbd\\xed\\xb1\\xb6\\xed\\xa0\\xbc\\xed\\xbf\\xbe https://t.co/DKARmqS2UC\"\n",
       "\n",
       "[[2]]\n",
       "[1] \"TayyXx_: RT @FriendsFalcons: WBB- Yowanna Posey had an impressive double-double with 23 points (9-15) and 10 rebounds. #DoubleTrouble #Falcons\"\n",
       "\n",
       "[[3]]\n",
       "[1] \"griffin_guitar: If you've never known heartbreak, you've clearly never been a Georgia sports fan. #UGA #BRAVES #FALCONS #HAWKS\"\n",
       "\n",
       "[[4]]\n",
       "[1] \"2016NJ1: #MAGA #Trump2016 #WIKILEAKS #brexit #Patriots #uber  #starbucks  #iTunes   #hiphop #nyc #NFL #espn #music #Falcons… https://t.co/Ac1kRQTvBm\"\n",
       "\n",
       "[[5]]\n",
       "[1] \"rrangel3092: RT @FalconsFanMVP: Top atlanta falcons rightrelevance influencers (https://t.co/zfgaZBp77I) to follow https://t.co/uuzEUBgcbm #falcons\"\n",
       "\n",
       "[[6]]\n",
       "[1] \"rrangel3092: RT @FalconsFanMVP: Mayock's Top OT Prospects in the 2017 Draft https://t.co/5b2FO8N5mg #AtlantaFalcons https://t.co/eGjVZAYhCB #falcons\"\n"
      ]
     },
     "metadata": {},
     "output_type": "display_data"
    }
   ],
   "source": [
    "from_db = load_tweets_db()\n",
    "head(from_db)"
   ]
  },
  {
   "cell_type": "code",
   "execution_count": 14,
   "metadata": {
    "collapsed": false
   },
   "outputs": [
    {
     "data": {
      "text/plain": [
       "[[1]]\n",
       "[1] \"hiveminer: California https://t.co/EicZrGV1b8\"\n",
       "\n",
       "[[2]]\n",
       "[1] \"hiveminer: California https://t.co/46az8Sirei\"\n",
       "\n",
       "[[3]]\n",
       "[1] \"hiveminer: @nycjim @johncassidy If we had Trump corp financials we would know how much profit they were making off of US taxpayers. And other things.\"\n",
       "\n",
       "[[4]]\n",
       "[1] \"hiveminer: @sentedcruz That's great, Ted.\"\n",
       "\n",
       "[[5]]\n",
       "[1] \"hiveminer: @moietymouse @hadleywickham I have many scars and am only maybe halfway  there\"\n"
      ]
     },
     "metadata": {},
     "output_type": "display_data"
    }
   ],
   "source": [
    " hive_tweets <- userTimeline('hiveminer')\n",
    "hive_tweets[1:5]"
   ]
  },
  {
   "cell_type": "code",
   "execution_count": 15,
   "metadata": {
    "collapsed": false
   },
   "outputs": [
    {
     "data": {
      "text/html": [
       "88"
      ],
      "text/latex": [
       "88"
      ],
      "text/markdown": [
       "88"
      ],
      "text/plain": [
       "[1] 88"
      ]
     },
     "metadata": {},
     "output_type": "display_data"
    }
   ],
   "source": [
    "hive_tweets_large <- userTimeline('hiveminer', n=100)\n",
    "length(hive_tweets_large)"
   ]
  },
  {
   "cell_type": "code",
   "execution_count": 16,
   "metadata": {
    "collapsed": false
   },
   "outputs": [
    {
     "data": {
      "text/html": [
       "<table>\n",
       "<thead><tr><th scope=col>name</th><th scope=col>country</th><th scope=col>woeid</th></tr></thead>\n",
       "<tbody>\n",
       "\t<tr><td>Worldwide</td><td>         </td><td>1        </td></tr>\n",
       "\t<tr><td>Winnipeg </td><td>Canada   </td><td>2972     </td></tr>\n",
       "\t<tr><td>Ottawa   </td><td>Canada   </td><td>3369     </td></tr>\n",
       "\t<tr><td>Quebec   </td><td>Canada   </td><td>3444     </td></tr>\n",
       "\t<tr><td>Montreal </td><td>Canada   </td><td>3534     </td></tr>\n",
       "\t<tr><td>Toronto  </td><td>Canada   </td><td>4118     </td></tr>\n",
       "</tbody>\n",
       "</table>\n"
      ],
      "text/latex": [
       "\\begin{tabular}{r|lll}\n",
       " name & country & woeid\\\\\n",
       "\\hline\n",
       "\t Worldwide &           & 1        \\\\\n",
       "\t Winnipeg  & Canada    & 2972     \\\\\n",
       "\t Ottawa    & Canada    & 3369     \\\\\n",
       "\t Quebec    & Canada    & 3444     \\\\\n",
       "\t Montreal  & Canada    & 3534     \\\\\n",
       "\t Toronto   & Canada    & 4118     \\\\\n",
       "\\end{tabular}\n"
      ],
      "text/markdown": [
       "\n",
       "name | country | woeid | \n",
       "|---|---|---|---|---|---|\n",
       "| Worldwide |           | 1         | \n",
       "| Winnipeg  | Canada    | 2972      | \n",
       "| Ottawa    | Canada    | 3369      | \n",
       "| Quebec    | Canada    | 3444      | \n",
       "| Montreal  | Canada    | 3534      | \n",
       "| Toronto   | Canada    | 4118      | \n",
       "\n",
       "\n"
      ],
      "text/plain": [
       "  name      country woeid\n",
       "1 Worldwide         1    \n",
       "2 Winnipeg  Canada  2972 \n",
       "3 Ottawa    Canada  3369 \n",
       "4 Quebec    Canada  3444 \n",
       "5 Montreal  Canada  3534 \n",
       "6 Toronto   Canada  4118 "
      ]
     },
     "metadata": {},
     "output_type": "display_data"
    }
   ],
   "source": [
    "avail_trends = availableTrendLocations()\n",
    "head(avail_trends)"
   ]
  },
  {
   "cell_type": "code",
   "execution_count": 17,
   "metadata": {
    "collapsed": false
   },
   "outputs": [
    {
     "data": {
      "text/html": [
       "<table>\n",
       "<thead><tr><th scope=col>name</th><th scope=col>country</th><th scope=col>woeid</th></tr></thead>\n",
       "<tbody>\n",
       "\t<tr><td>Concepcion</td><td>Chile     </td><td>349860    </td></tr>\n",
       "</tbody>\n",
       "</table>\n"
      ],
      "text/latex": [
       "\\begin{tabular}{r|lll}\n",
       " name & country & woeid\\\\\n",
       "\\hline\n",
       "\t Concepcion & Chile      & 349860    \\\\\n",
       "\\end{tabular}\n"
      ],
      "text/markdown": [
       "\n",
       "name | country | woeid | \n",
       "|---|\n",
       "| Concepcion | Chile      | 349860     | \n",
       "\n",
       "\n"
      ],
      "text/plain": [
       "  name       country woeid \n",
       "1 Concepcion Chile   349860"
      ]
     },
     "metadata": {},
     "output_type": "display_data"
    }
   ],
   "source": [
    "close_trends = closestTrendLocations(-42.8, -71.1)\n",
    "head(close_trends)"
   ]
  },
  {
   "cell_type": "code",
   "execution_count": 18,
   "metadata": {
    "collapsed": false
   },
   "outputs": [
    {
     "data": {
      "text/html": [
       "<table>\n",
       "<thead><tr><th scope=col>name</th><th scope=col>url</th><th scope=col>query</th><th scope=col>woeid</th></tr></thead>\n",
       "<tbody>\n",
       "\t<tr><td>#BritneyEverAfter                              </td><td>http://twitter.com/search?q=%23BritneyEverAfter</td><td>%23BritneyEverAfter                            </td><td>2367105                                        </td></tr>\n",
       "\t<tr><td>#TrumpRally                                    </td><td>http://twitter.com/search?q=%23TrumpRally      </td><td>%23TrumpRally                                  </td><td>2367105                                        </td></tr>\n",
       "\t<tr><td>#NACA17                                        </td><td>http://twitter.com/search?q=%23NACA17          </td><td>%23NACA17                                      </td><td>2367105                                        </td></tr>\n",
       "\t<tr><td>#AAASmtg                                       </td><td>http://twitter.com/search?q=%23AAASmtg         </td><td>%23AAASmtg                                     </td><td>2367105                                        </td></tr>\n",
       "\t<tr><td>#ZGWL                                          </td><td>http://twitter.com/search?q=%23ZGWL            </td><td>%23ZGWL                                        </td><td>2367105                                        </td></tr>\n",
       "\t<tr><td>Crimson                                        </td><td>http://twitter.com/search?q=Crimson            </td><td>Crimson                                        </td><td>2367105                                        </td></tr>\n",
       "</tbody>\n",
       "</table>\n"
      ],
      "text/latex": [
       "\\begin{tabular}{r|llll}\n",
       " name & url & query & woeid\\\\\n",
       "\\hline\n",
       "\t \\#BritneyEverAfter                               & http://twitter.com/search?q=\\%23BritneyEverAfter & \\%23BritneyEverAfter                             & 2367105                                          \\\\\n",
       "\t \\#TrumpRally                                     & http://twitter.com/search?q=\\%23TrumpRally       & \\%23TrumpRally                                   & 2367105                                          \\\\\n",
       "\t \\#NACA17                                         & http://twitter.com/search?q=\\%23NACA17           & \\%23NACA17                                       & 2367105                                          \\\\\n",
       "\t \\#AAASmtg                                        & http://twitter.com/search?q=\\%23AAASmtg          & \\%23AAASmtg                                      & 2367105                                          \\\\\n",
       "\t \\#ZGWL                                           & http://twitter.com/search?q=\\%23ZGWL             & \\%23ZGWL                                         & 2367105                                          \\\\\n",
       "\t Crimson                                         & http://twitter.com/search?q=Crimson             & Crimson                                         & 2367105                                        \\\\\n",
       "\\end{tabular}\n"
      ],
      "text/markdown": [
       "\n",
       "name | url | query | woeid | \n",
       "|---|---|---|---|---|---|\n",
       "| #BritneyEverAfter                               | http://twitter.com/search?q=%23BritneyEverAfter | %23BritneyEverAfter                             | 2367105                                         | \n",
       "| #TrumpRally                                     | http://twitter.com/search?q=%23TrumpRally       | %23TrumpRally                                   | 2367105                                         | \n",
       "| #NACA17                                         | http://twitter.com/search?q=%23NACA17           | %23NACA17                                       | 2367105                                         | \n",
       "| #AAASmtg                                        | http://twitter.com/search?q=%23AAASmtg          | %23AAASmtg                                      | 2367105                                         | \n",
       "| #ZGWL                                           | http://twitter.com/search?q=%23ZGWL             | %23ZGWL                                         | 2367105                                         | \n",
       "| Crimson                                         | http://twitter.com/search?q=Crimson             | Crimson                                         | 2367105                                         | \n",
       "\n",
       "\n"
      ],
      "text/plain": [
       "  name              url                                            \n",
       "1 #BritneyEverAfter http://twitter.com/search?q=%23BritneyEverAfter\n",
       "2 #TrumpRally       http://twitter.com/search?q=%23TrumpRally      \n",
       "3 #NACA17           http://twitter.com/search?q=%23NACA17          \n",
       "4 #AAASmtg          http://twitter.com/search?q=%23AAASmtg         \n",
       "5 #ZGWL             http://twitter.com/search?q=%23ZGWL            \n",
       "6 Crimson           http://twitter.com/search?q=Crimson            \n",
       "  query               woeid  \n",
       "1 %23BritneyEverAfter 2367105\n",
       "2 %23TrumpRally       2367105\n",
       "3 %23NACA17           2367105\n",
       "4 %23AAASmtg          2367105\n",
       "5 %23ZGWL             2367105\n",
       "6 Crimson             2367105"
      ]
     },
     "metadata": {},
     "output_type": "display_data"
    }
   ],
   "source": [
    " trends = getTrends(2367105)\n",
    "head(trends)"
   ]
  },
  {
   "cell_type": "code",
   "execution_count": 19,
   "metadata": {
    "collapsed": false
   },
   "outputs": [
    {
     "data": {
      "image/png": "[encoded data removed]",
      "text/plain": [
       "plot without title"
      ]
     },
     "metadata": {},
     "output_type": "display_data"
    }
   ],
   "source": [
    "r_tweets <- searchTwitter(\"#rstats\", n=300)\n",
    "sources <- sapply(r_tweets, function(x) x$getStatusSource())\n",
    "sources <- gsub(\"</a>\", \"\", sources)\n",
    "sources <- strsplit(sources, \">\")\n",
    "sources <- sapply(sources, function(x) ifelse(length(x) > 1, x[2], x[1]))\n",
    "source_table = table(sources)\n",
    "pie(source_table[source_table > 10])"
   ]
  }
 ],
 "metadata": {
  "kernelspec": {
   "display_name": "R",
   "language": "R",
   "name": "ir"
  },
  "language_info": {
   "codemirror_mode": "r",
   "file_extension": ".r",
   "mimetype": "text/x-r-source",
   "name": "R",
   "pygments_lexer": "r",
   "version": "3.3.2"
  }
 },
 "nbformat": 4,
 "nbformat_minor": 2
}
