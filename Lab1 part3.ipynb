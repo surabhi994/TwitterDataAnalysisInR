{
 "cells": [
  {
   "cell_type": "code",
   "execution_count": 1,
   "metadata": {
    "collapsed": false
   },
   "outputs": [
    {
     "name": "stderr",
     "output_type": "stream",
     "text": [
      "Warning message in install.packages(\"ggplot2\"):\n",
      "“installation of package ‘ggplot2’ had non-zero exit status”Updating HTML index of packages in '.Library'\n",
      "Making 'packages.html' ... done\n"
     ]
    }
   ],
   "source": [
    "install.packages(\"ggplot2\")"
   ]
  },
  {
   "cell_type": "code",
   "execution_count": 3,
   "metadata": {
    "collapsed": true
   },
   "outputs": [],
   "source": [
    "library(twitteR)\n"
   ]
  },
  {
   "cell_type": "code",
   "execution_count": 4,
   "metadata": {
    "collapsed": false
   },
   "outputs": [
    {
     "name": "stderr",
     "output_type": "stream",
     "text": [
      "Loading required package: ggplot2\n"
     ]
    }
   ],
   "source": [
    "library(ggmap)"
   ]
  },
  {
   "cell_type": "code",
   "execution_count": 5,
   "metadata": {
    "collapsed": false
   },
   "outputs": [
    {
     "name": "stdout",
     "output_type": "stream",
     "text": [
      "[1] \"Using direct authentication\"\n"
     ]
    }
   ],
   "source": [
    "setup_twitter_oauth(\"Lpo1w70pfkwXL8Fl1dYgWwBdS\", \"PW74Dy039KmQ56EYFF7iDSxalOHymBGrK1m0rwqRyy3tD8e1tS\",\"772498189450678272-1TIp0LwZJnQcS40Ee1elFtAfJFWs19U\",\"28gSmzTkp6X41KYxcnxAeGqg0Yov6MufR0KZNdeYCacHb\")"
   ]
  },
  {
   "cell_type": "code",
   "execution_count": 6,
   "metadata": {
    "collapsed": false
   },
   "outputs": [
    {
     "name": "stderr",
     "output_type": "stream",
     "text": [
      "Information from URL : http://maps.googleapis.com/maps/api/geocode/json?address=new%20delhi&sensor=false\n"
     ]
    },
    {
     "name": "stdout",
     "output_type": "stream",
     "text": [
      "[1] 28.61394\n",
      "[1] 77.20902\n"
     ]
    }
   ],
   "source": [
    "name_of_city <- \"new delhi\" #variable to store name of city whose trending topics are to be searched\n",
    "loc <- geocode(name_of_city)\n",
    "\n",
    "lat<- loc$lat\n",
    "lon<-loc$lon\n",
    "show(lat)\n",
    "show(lon)"
   ]
  },
  {
   "cell_type": "code",
   "execution_count": 9,
   "metadata": {
    "collapsed": true
   },
   "outputs": [],
   "source": [
    "lat<-51.5074 #variable to store latitude of the city whose trending topics are to be searched \n",
    "lon<-0.1278 #variable to store longitude of the city whose trending topics are to be searched "
   ]
  },
  {
   "cell_type": "code",
   "execution_count": 7,
   "metadata": {
    "collapsed": false
   },
   "outputs": [
    {
     "data": {
      "text/html": [
       "<table>\n",
       "<thead><tr><th scope=col>name</th><th scope=col>country</th><th scope=col>woeid</th></tr></thead>\n",
       "<tbody>\n",
       "\t<tr><td>Delhi   </td><td>India   </td><td>20070458</td></tr>\n",
       "</tbody>\n",
       "</table>\n"
      ],
      "text/latex": [
       "\\begin{tabular}{r|lll}\n",
       " name & country & woeid\\\\\n",
       "\\hline\n",
       "\t Delhi    & India    & 20070458\\\\\n",
       "\\end{tabular}\n"
      ],
      "text/markdown": [
       "\n",
       "name | country | woeid | \n",
       "|---|\n",
       "| Delhi    | India    | 20070458 | \n",
       "\n",
       "\n"
      ],
      "text/plain": [
       "  name  country woeid   \n",
       "1 Delhi India   20070458"
      ]
     },
     "metadata": {},
     "output_type": "display_data"
    }
   ],
   "source": [
    "close_trends = closestTrendLocations(lat,lon)\n",
    "head(close_trends)"
   ]
  },
  {
   "cell_type": "code",
   "execution_count": 8,
   "metadata": {
    "collapsed": false
   },
   "outputs": [
    {
     "data": {
      "text/html": [
       "<table>\n",
       "<thead><tr><th scope=col>name</th><th scope=col>url</th><th scope=col>query</th><th scope=col>woeid</th></tr></thead>\n",
       "<tbody>\n",
       "\t<tr><td>Hamilton                                                                                                                                                                           </td><td>http://twitter.com/search?q=Hamilton                                                                                                                                               </td><td>Hamilton                                                                                                                                                                           </td><td>20070458                                                                                                                                                                           </td></tr>\n",
       "\t<tr><td>#ASOTFESTNL                                                                                                                                                                        </td><td>http://twitter.com/search?q=%23ASOTFESTNL                                                                                                                                          </td><td>%23ASOTFESTNL                                                                                                                                                                      </td><td>20070458                                                                                                                                                                           </td></tr>\n",
       "\t<tr><td>#floortest                                                                                                                                                                         </td><td>http://twitter.com/search?q=%23floortest                                                                                                                                           </td><td>%23floortest                                                                                                                                                                       </td><td>20070458                                                                                                                                                                           </td></tr>\n",
       "\t<tr><td>#JioFilmfareAwards                                                                                                                                                                 </td><td>http://twitter.com/search?q=%23JioFilmfareAwards                                                                                                                                   </td><td>%23JioFilmfareAwards                                                                                                                                                               </td><td>20070458                                                                                                                                                                           </td></tr>\n",
       "\t<tr><td>#OPSvsEPS                                                                                                                                                                          </td><td>http://twitter.com/search?q=%23OPSvsEPS                                                                                                                                            </td><td>%23OPSvsEPS                                                                                                                                                                        </td><td>20070458                                                                                                                                                                           </td></tr>\n",
       "\t<tr><td>#UPकीपुकार_BJPइसबार                                                                                                                                                                 </td><td>http://twitter.com/search?q=%23UP%E0%A4%95%E0%A5%80%E0%A4%AA%E0%A5%81%E0%A4%95%E0%A4%BE%E0%A4%B0_BJP%E0%A4%87%E0%A4%B8%E0%A4%AC%E0%A4%BE%E0%A4%B0                                  </td><td>%23UP%E0%A4%95%E0%A5%80%E0%A4%AA%E0%A5%81%E0%A4%95%E0%A4%BE%E0%A4%B0_BJP%E0%A4%87%E0%A4%B8%E0%A4%AC%E0%A4%BE%E0%A4%B0                                                              </td><td>20070458                                                                                                                                                                           </td></tr>\n",
       "\t<tr><td>Marina Beach                                                                                                                                                                       </td><td>http://twitter.com/search?q=%22Marina+Beach%22                                                                                                                                     </td><td>%22Marina+Beach%22                                                                                                                                                                 </td><td>20070458                                                                                                                                                                           </td></tr>\n",
       "\t<tr><td>तमिलनाडु विधानसभा                                                                                                                                                                   </td><td>http://twitter.com/search?q=%22%E0%A4%A4%E0%A4%AE%E0%A4%BF%E0%A4%B2%E0%A4%A8%E0%A4%BE%E0%A4%A1%E0%A5%81+%E0%A4%B5%E0%A4%BF%E0%A4%A7%E0%A4%BE%E0%A4%A8%E0%A4%B8%E0%A4%AD%E0%A4%BE%22</td><td>%22%E0%A4%A4%E0%A4%AE%E0%A4%BF%E0%A4%B2%E0%A4%A8%E0%A4%BE%E0%A4%A1%E0%A5%81+%E0%A4%B5%E0%A4%BF%E0%A4%A7%E0%A4%BE%E0%A4%A8%E0%A4%B8%E0%A4%AD%E0%A4%BE%22                            </td><td>20070458                                                                                                                                                                           </td></tr>\n",
       "\t<tr><td>JOLLY FIRST HIT OF 2017                                                                                                                                                            </td><td>http://twitter.com/search?q=%22JOLLY+FIRST+HIT+OF+2017%22                                                                                                                          </td><td>%22JOLLY+FIRST+HIT+OF+2017%22                                                                                                                                                      </td><td>20070458                                                                                                                                                                           </td></tr>\n",
       "\t<tr><td>#गठबंधन_का_पहला_वादा                                                                                                                                                                </td><td>http://twitter.com/search?q=%23%E0%A4%97%E0%A4%A0%E0%A4%AC%E0%A4%82%E0%A4%A7%E0%A4%A8_%E0%A4%95%E0%A4%BE_%E0%A4%AA%E0%A4%B9%E0%A4%B2%E0%A4%BE_%E0%A4%B5%E0%A4%BE%E0%A4%A6%E0%A4%BE </td><td>%23%E0%A4%97%E0%A4%A0%E0%A4%AC%E0%A4%82%E0%A4%A7%E0%A4%A8_%E0%A4%95%E0%A4%BE_%E0%A4%AA%E0%A4%B9%E0%A4%B2%E0%A4%BE_%E0%A4%B5%E0%A4%BE%E0%A4%A6%E0%A4%BE                             </td><td>20070458                                                                                                                                                                           </td></tr>\n",
       "</tbody>\n",
       "</table>\n"
      ],
      "text/latex": [
       "\\begin{tabular}{r|llll}\n",
       " name & url & query & woeid\\\\\n",
       "\\hline\n",
       "\t Hamilton                                                                                                                                                                            & http://twitter.com/search?q=Hamilton                                                                                                                                                & Hamilton                                                                                                                                                                            & 20070458                                                                                                                                                                           \\\\\n",
       "\t \\#ASOTFESTNL                                                                                                                                                                         & http://twitter.com/search?q=\\%23ASOTFESTNL                                                                                                                                           & \\%23ASOTFESTNL                                                                                                                                                                       & 20070458                                                                                                                                                                             \\\\\n",
       "\t \\#floortest                                                                                                                                                                          & http://twitter.com/search?q=\\%23floortest                                                                                                                                            & \\%23floortest                                                                                                                                                                        & 20070458                                                                                                                                                                             \\\\\n",
       "\t \\#JioFilmfareAwards                                                                                                                                                                  & http://twitter.com/search?q=\\%23JioFilmfareAwards                                                                                                                                    & \\%23JioFilmfareAwards                                                                                                                                                                & 20070458                                                                                                                                                                             \\\\\n",
       "\t \\#OPSvsEPS                                                                                                                                                                           & http://twitter.com/search?q=\\%23OPSvsEPS                                                                                                                                             & \\%23OPSvsEPS                                                                                                                                                                         & 20070458                                                                                                                                                                             \\\\\n",
       "\t \\#UPकीपुकार\\_BJPइसबार                                                                                                                                                                                                                                          & http://twitter.com/search?q=\\%23UP\\%E0\\%A4\\%95\\%E0\\%A5\\%80\\%E0\\%A4\\%AA\\%E0\\%A5\\%81\\%E0\\%A4\\%95\\%E0\\%A4\\%BE\\%E0\\%A4\\%B0\\_BJP\\%E0\\%A4\\%87\\%E0\\%A4\\%B8\\%E0\\%A4\\%AC\\%E0\\%A4\\%BE\\%E0\\%A4\\%B0                                   & \\%23UP\\%E0\\%A4\\%95\\%E0\\%A5\\%80\\%E0\\%A4\\%AA\\%E0\\%A5\\%81\\%E0\\%A4\\%95\\%E0\\%A4\\%BE\\%E0\\%A4\\%B0\\_BJP\\%E0\\%A4\\%87\\%E0\\%A4\\%B8\\%E0\\%A4\\%AC\\%E0\\%A4\\%BE\\%E0\\%A4\\%B0                                                               & 20070458                                                                                                                                                                                                                                                       \\\\\n",
       "\t Marina Beach                                                                                                                                                                            & http://twitter.com/search?q=\\%22Marina+Beach\\%22                                                                                                                                      & \\%22Marina+Beach\\%22                                                                                                                                                                  & 20070458                                                                                                                                                                               \\\\\n",
       "\t तमिलनाडु विधानसभा                                                                                                                                                                                                                                                                        & http://twitter.com/search?q=\\%22\\%E0\\%A4\\%A4\\%E0\\%A4\\%AE\\%E0\\%A4\\%BF\\%E0\\%A4\\%B2\\%E0\\%A4\\%A8\\%E0\\%A4\\%BE\\%E0\\%A4\\%A1\\%E0\\%A5\\%81+\\%E0\\%A4\\%B5\\%E0\\%A4\\%BF\\%E0\\%A4\\%A7\\%E0\\%A4\\%BE\\%E0\\%A4\\%A8\\%E0\\%A4\\%B8\\%E0\\%A4\\%AD\\%E0\\%A4\\%BE\\%22 & \\%22\\%E0\\%A4\\%A4\\%E0\\%A4\\%AE\\%E0\\%A4\\%BF\\%E0\\%A4\\%B2\\%E0\\%A4\\%A8\\%E0\\%A4\\%BE\\%E0\\%A4\\%A1\\%E0\\%A5\\%81+\\%E0\\%A4\\%B5\\%E0\\%A4\\%BF\\%E0\\%A4\\%A7\\%E0\\%A4\\%BE\\%E0\\%A4\\%A8\\%E0\\%A4\\%B8\\%E0\\%A4\\%AD\\%E0\\%A4\\%BE\\%22                             & 20070458                                                                                                                                                                                                                                                                               \\\\\n",
       "\t JOLLY FIRST HIT OF 2017                                                                                                                                                                 & http://twitter.com/search?q=\\%22JOLLY+FIRST+HIT+OF+2017\\%22                                                                                                                           & \\%22JOLLY+FIRST+HIT+OF+2017\\%22                                                                                                                                                       & 20070458                                                                                                                                                                               \\\\\n",
       "\t \\#गठबंधन\\_का\\_पहला\\_वादा                                                                                                                                                                                                                                                                 & http://twitter.com/search?q=\\%23\\%E0\\%A4\\%97\\%E0\\%A4\\%A0\\%E0\\%A4\\%AC\\%E0\\%A4\\%82\\%E0\\%A4\\%A7\\%E0\\%A4\\%A8\\_\\%E0\\%A4\\%95\\%E0\\%A4\\%BE\\_\\%E0\\%A4\\%AA\\%E0\\%A4\\%B9\\%E0\\%A4\\%B2\\%E0\\%A4\\%BE\\_\\%E0\\%A4\\%B5\\%E0\\%A4\\%BE\\%E0\\%A4\\%A6\\%E0\\%A4\\%BE  & \\%23\\%E0\\%A4\\%97\\%E0\\%A4\\%A0\\%E0\\%A4\\%AC\\%E0\\%A4\\%82\\%E0\\%A4\\%A7\\%E0\\%A4\\%A8\\_\\%E0\\%A4\\%95\\%E0\\%A4\\%BE\\_\\%E0\\%A4\\%AA\\%E0\\%A4\\%B9\\%E0\\%A4\\%B2\\%E0\\%A4\\%BE\\_\\%E0\\%A4\\%B5\\%E0\\%A4\\%BE\\%E0\\%A4\\%A6\\%E0\\%A4\\%BE                              & 20070458                                                                                                                                                                                                                                                                                   \\\\\n",
       "\\end{tabular}\n"
      ],
      "text/markdown": [
       "\n",
       "name | url | query | woeid | \n",
       "|---|---|---|---|---|---|---|---|---|---|\n",
       "| Hamilton                                                                                                                                                                            | http://twitter.com/search?q=Hamilton                                                                                                                                                | Hamilton                                                                                                                                                                            | 20070458                                                                                                                                                                            | \n",
       "| #ASOTFESTNL                                                                                                                                                                         | http://twitter.com/search?q=%23ASOTFESTNL                                                                                                                                           | %23ASOTFESTNL                                                                                                                                                                       | 20070458                                                                                                                                                                            | \n",
       "| #floortest                                                                                                                                                                          | http://twitter.com/search?q=%23floortest                                                                                                                                            | %23floortest                                                                                                                                                                        | 20070458                                                                                                                                                                            | \n",
       "| #JioFilmfareAwards                                                                                                                                                                  | http://twitter.com/search?q=%23JioFilmfareAwards                                                                                                                                    | %23JioFilmfareAwards                                                                                                                                                                | 20070458                                                                                                                                                                            | \n",
       "| #OPSvsEPS                                                                                                                                                                           | http://twitter.com/search?q=%23OPSvsEPS                                                                                                                                             | %23OPSvsEPS                                                                                                                                                                         | 20070458                                                                                                                                                                            | \n",
       "| #UPकीपुकार_BJPइसबार                                                                                                                                                                  | http://twitter.com/search?q=%23UP%E0%A4%95%E0%A5%80%E0%A4%AA%E0%A5%81%E0%A4%95%E0%A4%BE%E0%A4%B0_BJP%E0%A4%87%E0%A4%B8%E0%A4%AC%E0%A4%BE%E0%A4%B0                                   | %23UP%E0%A4%95%E0%A5%80%E0%A4%AA%E0%A5%81%E0%A4%95%E0%A4%BE%E0%A4%B0_BJP%E0%A4%87%E0%A4%B8%E0%A4%AC%E0%A4%BE%E0%A4%B0                                                               | 20070458                                                                                                                                                                            | \n",
       "| Marina Beach                                                                                                                                                                        | http://twitter.com/search?q=%22Marina+Beach%22                                                                                                                                      | %22Marina+Beach%22                                                                                                                                                                  | 20070458                                                                                                                                                                            | \n",
       "| तमिलनाडु विधानसभा                                                                                                                                                                    | http://twitter.com/search?q=%22%E0%A4%A4%E0%A4%AE%E0%A4%BF%E0%A4%B2%E0%A4%A8%E0%A4%BE%E0%A4%A1%E0%A5%81+%E0%A4%B5%E0%A4%BF%E0%A4%A7%E0%A4%BE%E0%A4%A8%E0%A4%B8%E0%A4%AD%E0%A4%BE%22 | %22%E0%A4%A4%E0%A4%AE%E0%A4%BF%E0%A4%B2%E0%A4%A8%E0%A4%BE%E0%A4%A1%E0%A5%81+%E0%A4%B5%E0%A4%BF%E0%A4%A7%E0%A4%BE%E0%A4%A8%E0%A4%B8%E0%A4%AD%E0%A4%BE%22                             | 20070458                                                                                                                                                                            | \n",
       "| JOLLY FIRST HIT OF 2017                                                                                                                                                             | http://twitter.com/search?q=%22JOLLY+FIRST+HIT+OF+2017%22                                                                                                                           | %22JOLLY+FIRST+HIT+OF+2017%22                                                                                                                                                       | 20070458                                                                                                                                                                            | \n",
       "| #गठबंधन_का_पहला_वादा                                                                                                                                                                 | http://twitter.com/search?q=%23%E0%A4%97%E0%A4%A0%E0%A4%AC%E0%A4%82%E0%A4%A7%E0%A4%A8_%E0%A4%95%E0%A4%BE_%E0%A4%AA%E0%A4%B9%E0%A4%B2%E0%A4%BE_%E0%A4%B5%E0%A4%BE%E0%A4%A6%E0%A4%BE  | %23%E0%A4%97%E0%A4%A0%E0%A4%AC%E0%A4%82%E0%A4%A7%E0%A4%A8_%E0%A4%95%E0%A4%BE_%E0%A4%AA%E0%A4%B9%E0%A4%B2%E0%A4%BE_%E0%A4%B5%E0%A4%BE%E0%A4%A6%E0%A4%BE                              | 20070458                                                                                                                                                                            | \n",
       "\n",
       "\n"
      ],
      "text/plain": [
       "   name                   \n",
       "1  Hamilton               \n",
       "2  #ASOTFESTNL            \n",
       "3  #floortest             \n",
       "4  #JioFilmfareAwards     \n",
       "5  #OPSvsEPS              \n",
       "6  #UPकीपुकार_BJPइसबार     \n",
       "7  Marina Beach           \n",
       "8  तमिलनाडु विधानसभा       \n",
       "9  JOLLY FIRST HIT OF 2017\n",
       "10 #गठबंधन_का_पहला_वादा    \n",
       "   url                                                                                                                                                                                \n",
       "1  http://twitter.com/search?q=Hamilton                                                                                                                                               \n",
       "2  http://twitter.com/search?q=%23ASOTFESTNL                                                                                                                                          \n",
       "3  http://twitter.com/search?q=%23floortest                                                                                                                                           \n",
       "4  http://twitter.com/search?q=%23JioFilmfareAwards                                                                                                                                   \n",
       "5  http://twitter.com/search?q=%23OPSvsEPS                                                                                                                                            \n",
       "6  http://twitter.com/search?q=%23UP%E0%A4%95%E0%A5%80%E0%A4%AA%E0%A5%81%E0%A4%95%E0%A4%BE%E0%A4%B0_BJP%E0%A4%87%E0%A4%B8%E0%A4%AC%E0%A4%BE%E0%A4%B0                                  \n",
       "7  http://twitter.com/search?q=%22Marina+Beach%22                                                                                                                                     \n",
       "8  http://twitter.com/search?q=%22%E0%A4%A4%E0%A4%AE%E0%A4%BF%E0%A4%B2%E0%A4%A8%E0%A4%BE%E0%A4%A1%E0%A5%81+%E0%A4%B5%E0%A4%BF%E0%A4%A7%E0%A4%BE%E0%A4%A8%E0%A4%B8%E0%A4%AD%E0%A4%BE%22\n",
       "9  http://twitter.com/search?q=%22JOLLY+FIRST+HIT+OF+2017%22                                                                                                                          \n",
       "10 http://twitter.com/search?q=%23%E0%A4%97%E0%A4%A0%E0%A4%AC%E0%A4%82%E0%A4%A7%E0%A4%A8_%E0%A4%95%E0%A4%BE_%E0%A4%AA%E0%A4%B9%E0%A4%B2%E0%A4%BE_%E0%A4%B5%E0%A4%BE%E0%A4%A6%E0%A4%BE \n",
       "   query                                                                                                                                                  \n",
       "1  Hamilton                                                                                                                                               \n",
       "2  %23ASOTFESTNL                                                                                                                                          \n",
       "3  %23floortest                                                                                                                                           \n",
       "4  %23JioFilmfareAwards                                                                                                                                   \n",
       "5  %23OPSvsEPS                                                                                                                                            \n",
       "6  %23UP%E0%A4%95%E0%A5%80%E0%A4%AA%E0%A5%81%E0%A4%95%E0%A4%BE%E0%A4%B0_BJP%E0%A4%87%E0%A4%B8%E0%A4%AC%E0%A4%BE%E0%A4%B0                                  \n",
       "7  %22Marina+Beach%22                                                                                                                                     \n",
       "8  %22%E0%A4%A4%E0%A4%AE%E0%A4%BF%E0%A4%B2%E0%A4%A8%E0%A4%BE%E0%A4%A1%E0%A5%81+%E0%A4%B5%E0%A4%BF%E0%A4%A7%E0%A4%BE%E0%A4%A8%E0%A4%B8%E0%A4%AD%E0%A4%BE%22\n",
       "9  %22JOLLY+FIRST+HIT+OF+2017%22                                                                                                                          \n",
       "10 %23%E0%A4%97%E0%A4%A0%E0%A4%AC%E0%A4%82%E0%A4%A7%E0%A4%A8_%E0%A4%95%E0%A4%BE_%E0%A4%AA%E0%A4%B9%E0%A4%B2%E0%A4%BE_%E0%A4%B5%E0%A4%BE%E0%A4%A6%E0%A4%BE \n",
       "   woeid   \n",
       "1  20070458\n",
       "2  20070458\n",
       "3  20070458\n",
       "4  20070458\n",
       "5  20070458\n",
       "6  20070458\n",
       "7  20070458\n",
       "8  20070458\n",
       "9  20070458\n",
       "10 20070458"
      ]
     },
     "metadata": {},
     "output_type": "display_data"
    }
   ],
   "source": [
    "trends = getTrends(close_trends$woeid) \n",
    "head(trends, n=10)\n",
    "\n",
    "tt <-head(trends$name, n=10)"
   ]
  },
  {
   "cell_type": "code",
   "execution_count": 9,
   "metadata": {
    "collapsed": false
   },
   "outputs": [
    {
     "name": "stdout",
     "output_type": "stream",
     "text": [
      "The top 10 trending things are: Hamilton #ASOTFESTNL #floortest #JioFilmfareAwards #OPSvsEPS #UPकीपुकार_BJPइसबार Marina Beach तमिलनाडु विधानसभा JOLLY FIRST HIT OF 2017 #गठबंधन_का_पहला_वादा"
     ]
    }
   ],
   "source": [
    "cat(\"The top 10 trending things are: \") #displays top 10 trending topics of location\n",
    "cat(tt)"
   ]
  }
 ],
 "metadata": {
  "kernelspec": {
   "display_name": "R",
   "language": "R",
   "name": "ir"
  },
  "language_info": {
   "codemirror_mode": "r",
   "file_extension": ".r",
   "mimetype": "text/x-r-source",
   "name": "R",
   "pygments_lexer": "r",
   "version": "3.3.2"
  }
 },
 "nbformat": 4,
 "nbformat_minor": 2
}
